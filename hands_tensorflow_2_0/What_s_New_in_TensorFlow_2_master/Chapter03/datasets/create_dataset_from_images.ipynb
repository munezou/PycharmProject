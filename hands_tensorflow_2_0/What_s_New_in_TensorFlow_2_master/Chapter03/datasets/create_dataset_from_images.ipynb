{
 "cells": [
  {
   "cell_type": "code",
   "execution_count": 1,
   "metadata": {},
   "outputs": [],
   "source": [
    "import os\n",
    "import sys\n",
    "import tensorflow as tf"
   ]
  },
  {
   "cell_type": "code",
   "execution_count": 2,
   "metadata": {},
   "outputs": [],
   "source": [
    "def preprocess_image(img_path, label):\n",
    "  img_data = tf.io.read_file(img_path)\n",
    "  feat = tf.image.decode_jpeg(img_data, channels=3)\n",
    "  feat = tf.image.convert_image_dtype(feat, tf.float32)\n",
    "  return feat, label, img_path"
   ]
  },
  {
   "cell_type": "code",
   "execution_count": 3,
   "metadata": {},
   "outputs": [],
   "source": [
    "def get_label(img_path):\n",
    "  if isinstance(img_path, bytes):\n",
    "    img_path = img_path.decode(sys.getdefaultencoding())\n",
    "  fn = os.path.basename(img_path)\n",
    "  cl = fn.split('_')[0]\n",
    "  if cl == 'cat':\n",
    "    label = 0\n",
    "  else:\n",
    "    label = 1\n",
    "\n",
    "  return label"
   ]
  },
  {
   "cell_type": "code",
   "execution_count": 4,
   "metadata": {},
   "outputs": [],
   "source": [
    "def read_img_file(img_path):\n",
    "  label = get_label(img_path)\n",
    "  return img_path, label"
   ]
  },
  {
   "cell_type": "code",
   "execution_count": 7,
   "metadata": {},
   "outputs": [],
   "source": [
    "file_pattern = [\"./curated_data/images/*.jpeg\", \"./curated_data/images/*.jpg\"]\n",
    "image_files = tf.io.gfile.glob(file_pattern)\n",
    "labels = []\n",
    "for img_path in image_files:\n",
    "  labels.append(get_label(img_path))"
   ]
  },
  {
   "cell_type": "code",
   "execution_count": 9,
   "metadata": {},
   "outputs": [
    {
     "data": {
      "text/plain": [
       "(['./curated_data/images/cat_0.jpeg',\n",
       "  './curated_data/images/cat_1.jpeg',\n",
       "  './curated_data/images/cat_2.jpeg',\n",
       "  './curated_data/images/dog_3.jpeg',\n",
       "  './curated_data/images/cat_3.jpg',\n",
       "  './curated_data/images/cat_4.jpg',\n",
       "  './curated_data/images/dog_0.jpg',\n",
       "  './curated_data/images/dog_1.jpg',\n",
       "  './curated_data/images/dog_2.jpg',\n",
       "  './curated_data/images/dog_4.jpg'],\n",
       " [0, 0, 0, 1, 0, 0, 1, 1, 1, 1])"
      ]
     },
     "execution_count": 9,
     "metadata": {},
     "output_type": "execute_result"
    }
   ],
   "source": [
    "image_files, labels"
   ]
  },
  {
   "cell_type": "code",
   "execution_count": 10,
   "metadata": {},
   "outputs": [],
   "source": [
    "image_path_dataset = tf.data.Dataset.from_tensor_slices((image_files, labels))"
   ]
  },
  {
   "cell_type": "code",
   "execution_count": 11,
   "metadata": {},
   "outputs": [
    {
     "data": {
      "text/plain": [
       "<TensorSliceDataset shapes: ((), ()), types: (tf.string, tf.int32)>"
      ]
     },
     "execution_count": 11,
     "metadata": {},
     "output_type": "execute_result"
    }
   ],
   "source": [
    "image_path_dataset"
   ]
  },
  {
   "cell_type": "code",
   "execution_count": 12,
   "metadata": {},
   "outputs": [],
   "source": [
    "image_dataset = image_path_dataset.map(preprocess_image)"
   ]
  },
  {
   "cell_type": "code",
   "execution_count": 13,
   "metadata": {},
   "outputs": [
    {
     "data": {
      "text/plain": [
       "<MapDataset shapes: ((None, None, 3), (), ()), types: (tf.float32, tf.int32, tf.string)>"
      ]
     },
     "execution_count": 13,
     "metadata": {},
     "output_type": "execute_result"
    }
   ],
   "source": [
    "image_dataset"
   ]
  },
  {
   "cell_type": "code",
   "execution_count": null,
   "metadata": {},
   "outputs": [],
   "source": []
  }
 ],
 "metadata": {
  "kernelspec": {
   "display_name": "Python 3",
   "language": "python",
   "name": "python3"
  },
  "language_info": {
   "codemirror_mode": {
    "name": "ipython",
    "version": 3
   },
   "file_extension": ".py",
   "mimetype": "text/x-python",
   "name": "python",
   "nbconvert_exporter": "python",
   "pygments_lexer": "ipython3",
   "version": "3.6.6"
  }
 },
 "nbformat": 4,
 "nbformat_minor": 2
}
