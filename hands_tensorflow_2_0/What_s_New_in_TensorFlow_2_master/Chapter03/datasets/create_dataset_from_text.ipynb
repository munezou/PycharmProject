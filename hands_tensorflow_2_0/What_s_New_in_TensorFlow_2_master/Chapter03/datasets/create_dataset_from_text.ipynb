{
 "cells": [
  {
   "cell_type": "code",
   "execution_count": 1,
   "metadata": {},
   "outputs": [],
   "source": [
    "import tensorflow as tf"
   ]
  },
  {
   "cell_type": "code",
   "execution_count": 8,
   "metadata": {},
   "outputs": [],
   "source": [
    "def train_decode_line(row):\n",
    "  cols = tf.io.decode_csv(row, record_defaults=[[0.], ['house'], [0.]])\n",
    "  myfeatures = {'sq_footage':cols[0], 'type':cols[1]}\n",
    "  mylabel = cols[2] #price\n",
    "  return myfeatures, mylabel"
   ]
  },
  {
   "cell_type": "code",
   "execution_count": 9,
   "metadata": {},
   "outputs": [],
   "source": [
    "def predict_decode_line(row):\n",
    "  cols = tf.decode_csv(row, record_defaults=[[0.], ['house']])\n",
    "  myfeatures = {'sq_footage':cols[0], 'type':cols[1]}\n",
    "  return myfeatures"
   ]
  },
  {
   "cell_type": "code",
   "execution_count": 10,
   "metadata": {},
   "outputs": [],
   "source": [
    "line_dataset = tf.data.TextLineDataset('./curated_data/train.csv')"
   ]
  },
  {
   "cell_type": "code",
   "execution_count": 11,
   "metadata": {},
   "outputs": [
    {
     "data": {
      "text/plain": [
       "<TextLineDatasetV2 shapes: (), types: tf.string>"
      ]
     },
     "execution_count": 11,
     "metadata": {},
     "output_type": "execute_result"
    }
   ],
   "source": [
    "line_dataset"
   ]
  },
  {
   "cell_type": "code",
   "execution_count": 12,
   "metadata": {},
   "outputs": [
    {
     "name": "stdout",
     "output_type": "stream",
     "text": [
      "tf.Tensor(b'1000, apt, 0.5', shape=(), dtype=string)\n",
      "tf.Tensor(b'1000, house, 1', shape=(), dtype=string)\n",
      "tf.Tensor(b'1200, apt, 0.6', shape=(), dtype=string)\n",
      "tf.Tensor(b'1200, house, 1.2', shape=(), dtype=string)\n"
     ]
    }
   ],
   "source": [
    "for line in line_dataset.take(4):\n",
    "    print(line)"
   ]
  },
  {
   "cell_type": "code",
   "execution_count": 13,
   "metadata": {},
   "outputs": [],
   "source": [
    "train_dataset = line_dataset.map(train_decode_line)"
   ]
  },
  {
   "cell_type": "code",
   "execution_count": 14,
   "metadata": {},
   "outputs": [
    {
     "name": "stdout",
     "output_type": "stream",
     "text": [
      "({'sq_footage': <tf.Tensor: id=58, shape=(), dtype=float32, numpy=1000.0>, 'type': <tf.Tensor: id=59, shape=(), dtype=string, numpy=b' apt'>}, <tf.Tensor: id=60, shape=(), dtype=float32, numpy=0.5>)\n",
      "({'sq_footage': <tf.Tensor: id=64, shape=(), dtype=float32, numpy=1000.0>, 'type': <tf.Tensor: id=65, shape=(), dtype=string, numpy=b' house'>}, <tf.Tensor: id=66, shape=(), dtype=float32, numpy=1.0>)\n",
      "({'sq_footage': <tf.Tensor: id=70, shape=(), dtype=float32, numpy=1200.0>, 'type': <tf.Tensor: id=71, shape=(), dtype=string, numpy=b' apt'>}, <tf.Tensor: id=72, shape=(), dtype=float32, numpy=0.6>)\n",
      "({'sq_footage': <tf.Tensor: id=76, shape=(), dtype=float32, numpy=1200.0>, 'type': <tf.Tensor: id=77, shape=(), dtype=string, numpy=b' house'>}, <tf.Tensor: id=78, shape=(), dtype=float32, numpy=1.2>)\n"
     ]
    }
   ],
   "source": [
    "for train in train_dataset.take(4):\n",
    "    print(train)"
   ]
  },
  {
   "cell_type": "code",
   "execution_count": null,
   "metadata": {},
   "outputs": [],
   "source": []
  }
 ],
 "metadata": {
  "kernelspec": {
   "display_name": "Python 3",
   "language": "python",
   "name": "python3"
  },
  "language_info": {
   "codemirror_mode": {
    "name": "ipython",
    "version": 3
   },
   "file_extension": ".py",
   "mimetype": "text/x-python",
   "name": "python",
   "nbconvert_exporter": "python",
   "pygments_lexer": "ipython3",
   "version": "3.6.6"
  }
 },
 "nbformat": 4,
 "nbformat_minor": 2
}
