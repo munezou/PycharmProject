{
 "cells": [
  {
   "cell_type": "markdown",
   "metadata": {},
   "source": [
    "Illustration of built-in dataset using tensorflow_datasets module"
   ]
  },
  {
   "cell_type": "code",
   "execution_count": 1,
   "metadata": {},
   "outputs": [],
   "source": [
    "import tensorflow as tf\n",
    "import tensorflow_datasets as tfds"
   ]
  },
  {
   "cell_type": "code",
   "execution_count": 2,
   "metadata": {},
   "outputs": [],
   "source": [
    "# Can use below simple code to download 'mnist' dataset\n",
    "#datasets, info = tfds.load(name='mnist', with_info=True, as_supervised=True)\n",
    "#mnist_train, mnist_test = datasets['train'], datasets['test']"
   ]
  },
  {
   "cell_type": "markdown",
   "metadata": {},
   "source": [
    "Below function loads mnist data using tensorflow_datasets, split to train, validation and test."
   ]
  },
  {
   "cell_type": "code",
   "execution_count": 3,
   "metadata": {},
   "outputs": [],
   "source": [
    "def load_mnist():\n",
    "    \"\"\" load tensorflow mnist builtin dataset \"\"\"\n",
    "    # Split the training data to 90, and 10 %\n",
    "    ds_train_s, ds_validate_s = tfds.Split.TRAIN.subsplit([9, 1])\n",
    "    # Download and load three datasets directly\n",
    "    tfds_train, tfds_validate, tfds_test = \\\n",
    "        tfds.load(name='mnist',\n",
    "            split=[ds_train_s, ds_validate_s, tfds.Split.TEST], as_supervised=True)\n",
    "    return tfds_train, tfds_validate, tfds_test"
   ]
  },
  {
   "cell_type": "code",
   "execution_count": 4,
   "metadata": {},
   "outputs": [],
   "source": [
    "mnist_train, mnist_validate, mnist_test = load_mnist()"
   ]
  },
  {
   "cell_type": "code",
   "execution_count": 5,
   "metadata": {},
   "outputs": [],
   "source": [
    "BUFFER_SIZE = 10 # Use a much larger value for real code.\n",
    "BATCH_SIZE = 64\n",
    "NUM_EPOCHS = 5"
   ]
  },
  {
   "cell_type": "code",
   "execution_count": 6,
   "metadata": {},
   "outputs": [],
   "source": [
    "def scale(image, label):\n",
    "  image = tf.cast(image, tf.float32)\n",
    "  image /= 255\n",
    "\n",
    "  return image, label"
   ]
  },
  {
   "cell_type": "code",
   "execution_count": 7,
   "metadata": {},
   "outputs": [],
   "source": [
    "train_data = mnist_train.map(scale).shuffle(BUFFER_SIZE).batch(BATCH_SIZE).take(5)\n",
    "validation_data = mnist_validate.map(scale).batch(BATCH_SIZE).take(5)\n",
    "test_data = mnist_test.map(scale).batch(BATCH_SIZE).take(5)\n",
    "\n",
    "STEPS_PER_EPOCH = 5\n",
    "\n",
    "train_data = train_data.take(STEPS_PER_EPOCH)\n",
    "validation_data = validation_data.take(STEPS_PER_EPOCH)\n",
    "test_data = test_data.take(STEPS_PER_EPOCH)"
   ]
  },
  {
   "cell_type": "code",
   "execution_count": 8,
   "metadata": {},
   "outputs": [
    {
     "name": "stdout",
     "output_type": "stream",
     "text": [
      "(64, 28, 28, 1)\n"
     ]
    }
   ],
   "source": [
    "image_batch, label_batch = next(iter(train_data))\n",
    "print(image_batch.shape)"
   ]
  },
  {
   "cell_type": "code",
   "execution_count": 9,
   "metadata": {},
   "outputs": [],
   "source": [
    "model = tf.keras.Sequential([\n",
    "    tf.keras.layers.Conv2D(32, 3, activation='relu',\n",
    "                           kernel_regularizer=tf.keras.regularizers.l2(0.02),\n",
    "                           input_shape=(28, 28, 1)),\n",
    "    tf.keras.layers.MaxPooling2D(),\n",
    "    tf.keras.layers.Flatten(),\n",
    "    tf.keras.layers.Dropout(0.1),\n",
    "    tf.keras.layers.Dense(64, activation='relu'),\n",
    "    tf.keras.layers.BatchNormalization(),\n",
    "    tf.keras.layers.Dense(10, activation='softmax')\n",
    "])\n",
    "\n",
    "# Model is the full model w/o custom layers\n",
    "model.compile(optimizer='adam',\n",
    "              loss='sparse_categorical_crossentropy',\n",
    "              metrics=['accuracy'])"
   ]
  },
  {
   "cell_type": "code",
   "execution_count": 10,
   "metadata": {},
   "outputs": [
    {
     "name": "stdout",
     "output_type": "stream",
     "text": [
      "Epoch 1/5\n",
      "5/5 [==============================] - 2s 315ms/step - loss: 1.4859 - accuracy: 0.5281 - val_loss: 0.0000e+00 - val_accuracy: 0.0000e+00\n",
      "Epoch 2/5\n",
      "5/5 [==============================] - 1s 104ms/step - loss: 0.5547 - accuracy: 0.8687 - val_loss: 1.8774 - val_accuracy: 0.5063\n",
      "Epoch 3/5\n",
      "5/5 [==============================] - 1s 160ms/step - loss: 0.3758 - accuracy: 0.9375 - val_loss: 1.7765 - val_accuracy: 0.5656\n",
      "Epoch 4/5\n",
      "5/5 [==============================] - 0s 95ms/step - loss: 0.2830 - accuracy: 0.9625 - val_loss: 1.7061 - val_accuracy: 0.6281\n",
      "Epoch 5/5\n",
      "5/5 [==============================] - 1s 107ms/step - loss: 0.2097 - accuracy: 0.9875 - val_loss: 1.6508 - val_accuracy: 0.6656\n"
     ]
    },
    {
     "data": {
      "text/plain": [
       "<tensorflow.python.keras.callbacks.History at 0x7fbd9ce52b70>"
      ]
     },
     "execution_count": 10,
     "metadata": {},
     "output_type": "execute_result"
    }
   ],
   "source": [
    "model.fit(train_data, validation_data=validation_data, epochs=NUM_EPOCHS)"
   ]
  },
  {
   "cell_type": "code",
   "execution_count": 11,
   "metadata": {},
   "outputs": [
    {
     "name": "stdout",
     "output_type": "stream",
     "text": [
      "      5/Unknown - 0s 26ms/step - loss: 1.6211 - accuracy: 0.6687Loss 1.6210591554641725, Accuracy 0.668749988079071\n"
     ]
    }
   ],
   "source": [
    "loss, acc = model.evaluate(test_data)\n",
    "print(\"Loss {}, Accuracy {}\".format(loss, acc))"
   ]
  },
  {
   "cell_type": "code",
   "execution_count": null,
   "metadata": {},
   "outputs": [],
   "source": []
  }
 ],
 "metadata": {
  "kernelspec": {
   "display_name": "Python 3",
   "language": "python",
   "name": "python3"
  },
  "language_info": {
   "codemirror_mode": {
    "name": "ipython",
    "version": 3
   },
   "file_extension": ".py",
   "mimetype": "text/x-python",
   "name": "python",
   "nbconvert_exporter": "python",
   "pygments_lexer": "ipython3",
   "version": "3.6.6"
  }
 },
 "nbformat": 4,
 "nbformat_minor": 2
}
