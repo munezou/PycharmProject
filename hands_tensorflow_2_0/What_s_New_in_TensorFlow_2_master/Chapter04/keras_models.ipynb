{
 "cells": [
  {
   "cell_type": "code",
   "execution_count": 1,
   "metadata": {},
   "outputs": [],
   "source": [
    "import tensorflow as tf\n",
    "import tensorflow_datasets as tfds"
   ]
  },
  {
   "cell_type": "code",
   "execution_count": 2,
   "metadata": {},
   "outputs": [],
   "source": [
    "class MNISTData(object):\n",
    "  def __init__(self):\n",
    "    pass\n",
    "\n",
    "  def load_mnist(self):\n",
    "    \"\"\" load tensorflow mnist builtin dataset \"\"\"\n",
    "    # Split the training data to 90, and 10 %\n",
    "    ds_train_s, ds_validate_s = tfds.Split.TRAIN.subsplit([9, 1])\n",
    "    # Download and load three datasets directly\n",
    "    tfds_train, tfds_validate, tfds_test = \\\n",
    "        tfds.load(name='mnist', split=[ds_train_s, ds_validate_s, tfds.Split.TEST], \\\n",
    "        as_supervised=True)\n",
    "    return tfds_train, tfds_validate, tfds_test"
   ]
  },
  {
   "cell_type": "code",
   "execution_count": 3,
   "metadata": {},
   "outputs": [],
   "source": [
    "class TfKerasModels(object):\n",
    "  \"\"\" Building tf.keras models\n",
    "  \"\"\"\n",
    "  def __init__(self):\n",
    "    self.num_filters = 32\n",
    "    self.kernel_size = (5, 5)\n",
    "    self.pool_size = (2, 2)\n",
    "    self.num_classes = 10\n",
    "    self.input_shape = (28, 28, 1)\n",
    "\n",
    "  def build_sequential_model(self):\n",
    "    # Create Sequential model class:\n",
    "    model = tf.keras.models.Sequential()\n",
    "    # Build the model first by calling `build()` or calling `fit()` with some\n",
    "    # data, or specify an `input_shape` argument in the first layer(s) for\n",
    "    # automatic build.\n",
    "    # Optionally,the first layer can receive an ‘input_shape` argument:\n",
    "    model.add(tf.keras.layers.Conv2D(filters=self.num_filters,\n",
    "      kernel_size=self.kernel_size, padding='valid', activation='relu',\n",
    "      input_shape=self.input_shape))\n",
    "    # Another conv2d layer\n",
    "    model.add(tf.keras.layers.Conv2D(filters=self.num_filters,\n",
    "      kernel_size=self.kernel_size, padding='same', activation='relu'))\n",
    "\n",
    "    # Add a max pooling layer\n",
    "    model.add(tf.keras.layers.MaxPooling2D(pool_size=self.pool_size))\n",
    "\n",
    "    # And dropout\n",
    "    model.add(tf.keras.layers.Dropout(0.5))\n",
    "\n",
    "    # Flatten\n",
    "    model.add(tf.keras.layers.Flatten())\n",
    "\n",
    "    # Add softmax layer with 10 output units\n",
    "    model.add(tf.keras.layers.Dense(self.num_classes, activation='softmax'))\n",
    "    \n",
    "    self._compile_model(model)\n",
    "    return model\n",
    "\n",
    "  def _compile_model(self, model):\n",
    "    model.compile(optimizer='adam', loss='sparse_categorical_crossentropy',\n",
    "        metrics=['accuracy'])\n",
    "\n",
    "  def train_model(model):\n",
    "    model.fit()"
   ]
  },
  {
   "cell_type": "code",
   "execution_count": 4,
   "metadata": {},
   "outputs": [],
   "source": [
    "mnist_data = MNISTData()\n",
    "mnist_train, mnist_validate, mnist_test = mnist_data.load_mnist()"
   ]
  },
  {
   "cell_type": "code",
   "execution_count": 5,
   "metadata": {},
   "outputs": [],
   "source": [
    "BUFFER_SIZE = 10 # Use a much larger value for real code.\n",
    "BATCH_SIZE = 64\n",
    "NUM_EPOCHS = 5"
   ]
  },
  {
   "cell_type": "code",
   "execution_count": 6,
   "metadata": {},
   "outputs": [],
   "source": [
    "def scale(image, label):\n",
    "  image = tf.cast(image, tf.float32)\n",
    "  image /= 255\n",
    "\n",
    "  return image, label"
   ]
  },
  {
   "cell_type": "code",
   "execution_count": 7,
   "metadata": {},
   "outputs": [],
   "source": [
    "train_data = mnist_train.map(scale).shuffle(BUFFER_SIZE).batch(BATCH_SIZE).take(5)\n",
    "validation_data = mnist_validate.map(scale).batch(BATCH_SIZE).take(5)\n",
    "test_data = mnist_test.map(scale).batch(BATCH_SIZE).take(5)\n",
    "\n",
    "STEPS_PER_EPOCH = 5\n",
    "\n",
    "train_data = train_data.take(STEPS_PER_EPOCH)\n",
    "validation_data = validation_data.take(STEPS_PER_EPOCH)\n",
    "test_data = test_data.take(STEPS_PER_EPOCH)"
   ]
  },
  {
   "cell_type": "code",
   "execution_count": 8,
   "metadata": {},
   "outputs": [],
   "source": [
    "keras_models = TfKerasModels()\n",
    "seq_model = keras_models.build_sequential_model()"
   ]
  },
  {
   "cell_type": "code",
   "execution_count": 9,
   "metadata": {},
   "outputs": [
    {
     "name": "stdout",
     "output_type": "stream",
     "text": [
      "Epoch 1/5\n",
      "5/5 [==============================] - 2s 354ms/step - loss: 2.2369 - accuracy: 0.1781 - val_loss: 0.0000e+00 - val_accuracy: 0.0000e+00\n",
      "Epoch 2/5\n",
      "5/5 [==============================] - 1s 199ms/step - loss: 1.8361 - accuracy: 0.5063 - val_loss: 1.5965 - val_accuracy: 0.5344\n",
      "Epoch 3/5\n",
      "5/5 [==============================] - 1s 155ms/step - loss: 1.2594 - accuracy: 0.6781 - val_loss: 0.9612 - val_accuracy: 0.7375\n",
      "Epoch 4/5\n",
      "5/5 [==============================] - 1s 173ms/step - loss: 0.8405 - accuracy: 0.7500 - val_loss: 0.7255 - val_accuracy: 0.7344\n",
      "Epoch 5/5\n",
      "5/5 [==============================] - 1s 158ms/step - loss: 0.6327 - accuracy: 0.8000 - val_loss: 0.6574 - val_accuracy: 0.7906\n"
     ]
    },
    {
     "data": {
      "text/plain": [
       "<tensorflow.python.keras.callbacks.History at 0x7fb0701ae908>"
      ]
     },
     "execution_count": 9,
     "metadata": {},
     "output_type": "execute_result"
    }
   ],
   "source": [
    "log_dir = 'logs'\n",
    "tensorboard_callback = tf.keras.callbacks.TensorBoard(log_dir=log_dir, histogram_freq=1)\n",
    "seq_model.fit(train_data, validation_data=validation_data, epochs=NUM_EPOCHS, callbacks=[tensorboard_callback])"
   ]
  },
  {
   "cell_type": "code",
   "execution_count": 11,
   "metadata": {},
   "outputs": [
    {
     "name": "stderr",
     "output_type": "stream",
     "text": [
      "UsageError: Line magic function `%tensorboard` not found.\n"
     ]
    }
   ],
   "source": [
    "%tensorboard --logdir logs"
   ]
  },
  {
   "cell_type": "code",
   "execution_count": null,
   "metadata": {},
   "outputs": [],
   "source": []
  },
  {
   "cell_type": "code",
   "execution_count": null,
   "metadata": {},
   "outputs": [],
   "source": []
  }
 ],
 "metadata": {
  "kernelspec": {
   "display_name": "Python 3",
   "language": "python",
   "name": "python3"
  },
  "language_info": {
   "codemirror_mode": {
    "name": "ipython",
    "version": 3
   },
   "file_extension": ".py",
   "mimetype": "text/x-python",
   "name": "python",
   "nbconvert_exporter": "python",
   "pygments_lexer": "ipython3",
   "version": "3.6.6"
  }
 },
 "nbformat": 4,
 "nbformat_minor": 2
}
