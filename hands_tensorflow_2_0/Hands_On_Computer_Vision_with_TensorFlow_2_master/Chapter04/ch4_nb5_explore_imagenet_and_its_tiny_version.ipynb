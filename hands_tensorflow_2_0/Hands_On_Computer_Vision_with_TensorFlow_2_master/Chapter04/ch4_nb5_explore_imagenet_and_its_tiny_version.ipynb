{
 "cells": [
  {
   "cell_type": "markdown",
   "metadata": {},
   "source": [
    "<p style=\"border: 1px solid #e7692c; border-left: 15px solid #e7692c; padding: 10px; text-align:justify;\">\n",
    "    <strong style=\"color: #e7692c\">Tip.</strong> <a style=\"color: #000000;\" href=\"https://nbviewer.jupyter.org/github/PacktPublishing/Hands-On-Computer-Vision-with-Tensorflow/blob/master/ch4/ch4_nb5_explore_imagenet_and_its_tiny_version.ipynb\" title=\"View with Jupyter Online\">Click here to view this notebook on <code>nbviewer.jupyter.org</code></a>. \n",
    "    <br/>These notebooks are better read there, as Github default viewer ignores some of the formatting and interactive content.\n",
    "    </p>"
   ]
  },
  {
   "cell_type": "markdown",
   "metadata": {},
   "source": [
    "<table style=\"font-size: 1em; padding: 0; margin: 0;\">\n",
    "    <tr style=\"vertical-align: top; padding: 0; margin: 0;background-color: #ffffff\">\n",
    "        <td style=\"vertical-align: top; padding: 0; margin: 0; padding-right: 15px;\">\n",
    "    <p style=\"background: #363636; color:#ffffff; text-align:justify; padding: 10px 25px;\">\n",
    "        <strong style=\"font-size: 1.0em;\"><span style=\"font-size: 1.2em;\"><span style=\"color: #e7692c;\">Hands-on</span> Computer Vision with TensorFlow 2</span><br/>by <em>Eliot Andres</em> & <em>Benjamin Planche</em> (Packt Pub.)</strong><br/><br/>\n",
    "        <strong>> Chapter 4: Influential Classification Tools</strong><br/>\n",
    "    </p>\n",
    "\n",
    "<h1 style=\"width: 100%; text-align: left; padding: 0px 25px;\"><small style=\"color: #e7692c;\">\n",
    "    Notebook 5:</small><br/>Exploring ImageNet and Tiny-ImageNet</h1>\n",
    "<br/>\n",
    "<p style=\"border-left: 15px solid #363636; text-align:justify; padding: 0 10px;\">\n",
    "    In this additional notebook, we demonstrate how those interested can acquire <em><strong>ImageNet</em></strong> and its smaller version <em><strong>Tiny-ImageNet</em></strong>, and can set up training pipelines using them. With this notebook, we will also briefly introduce the <code>tf.data</code> API.\n",
    "</p>\n",
    "<br/>\n",
    "<p style=\"border-left: 15px solid #e7692c; padding: 0 10px; text-align:justify;\">\n",
    "    <strong style=\"color: #e7692c;\">Tip.</strong> The notebooks shared on this git repository illustrate some notions from the book \"<em><strong>Hands-on Computer Vision with TensorFlow 2</strong></em>\" written by Eliot Andres and Benjamin Planche, published by Packt. If you enjoyed the insights shared here, <a href=\"https://www.amazon.com/Hands-Computer-Vision-TensorFlow-processing/dp/1788830644\" title=\"Learn more about the book!\"><strong>please consider acquiring the book!</strong></a>\n",
    "<br/><br/>\n",
    "The book provides further guidance for those eager to learn about computer vision and to harness the power of TensorFlow 2 and Keras to build efficient recognition systems for object detection, segmentation, video processing, smartphone applications, and more.</p>\n",
    "        </td>\n",
    "        <td style=\"vertical-align: top; padding: 0; margin: 0; width: 280px;\">\n",
    "    <a href=\"https://www.amazon.com/Hands-Computer-Vision-TensorFlow-processing/dp/1788830644\" title=\"Learn more about the book!\" target=\"_blank\">\n",
    "        <img src=\"../banner_images/book_cover.png\" width=280>\n",
    "    </a>\n",
    "    <p style=\"background: #e7692c; color:#ffffff; padding: 10px; text-align:justify;\"><strong>Leverage deep learning to create powerful image processing apps with TensorFlow 2 and Keras. <br/></strong>Get the book for more insights!</p>\n",
    "    <ul style=\"height: 32px; white-space: nowrap; text-align: center; margin: 0px; padding: 0px; padding-top: 10px;\">\n",
    "    <li style=\"display: block;height: 100%;float: left;vertical-align: middle;margin: 0 25px 10px;padding: 0px;\">\n",
    "        <a href=\"https://www.amazon.com/Hands-Computer-Vision-TensorFlow-processing/dp/1788830644\" title=\"Get the book on Amazon (paperback or Kindle version)!\" target=\"_blank\">\n",
    "        <img style=\"vertical-align: middle; max-width: 72px; max-height: 32px;\" src=\"../banner_images/logo_amazon.png\" width=\"75px\">\n",
    "        </a>\n",
    "    </li>\n",
    "    <li style=\"display: inline-block;height: 100%;vertical-align: middle;float: right;margin: -5px 25px 10px;padding: 0px;\">\n",
    "        <a href=\"https://www.packtpub.com/application-development/hands-computer-vision-tensorflow-2\" title=\"Get your Packt book (paperback, PDF, ePUB, or MOBI version)!\" target=\"_blank\">\n",
    "        <img style=\"vertical-align: middle; max-width: 72px; max-height: 32px;\" src=\"../banner_images/logo_packt.png\" width=\"75px\">\n",
    "        </a>\n",
    "    </li>\n",
    "    </ul>\n",
    "        </td>\n",
    "        </tr>\n",
    "        </table>"
   ]
  },
  {
   "cell_type": "code",
   "execution_count": 1,
   "metadata": {},
   "outputs": [],
   "source": [
    "import os\n",
    "import glob\n",
    "import tensorflow as tf\n",
    "from matplotlib import pyplot as plt"
   ]
  },
  {
   "cell_type": "markdown",
   "metadata": {},
   "source": [
    "## Tiny-ImageNet"
   ]
  },
  {
   "cell_type": "markdown",
   "metadata": {},
   "source": [
    "### Presentation"
   ]
  },
  {
   "cell_type": "markdown",
   "metadata": {},
   "source": [
    "As presented in the chapter, the *ImageNet* dataset ([http://image-net.org](http://image-net.org)) and its yearly competition pushed forward the development of performant CNNs for image recognition[$^1$](#ref).\n",
    "While it could have been interesting to reuse this dataset to reproduce the results listed in the book, its huge size makes _ImageNet_ difficult to deploy on most machines (memory-wise). Training on such a dataset would also be a long, expensive task.\n",
    "\n",
    "Another solution could have been to use only a portion of _ImageNet_. Indeed, the people at Standford University already compiled such a dataset for one of their famous classes (\"_CS231n: Convolutional Neural Networks for Visual Recognition_\" - http://cs231n.stanford.edu/). This dataset, _Tiny-ImageNet_ ([https://tiny-imagenet.herokuapp.com](https://tiny-imagenet.herokuapp.com)) contains 200 different classes (against the 1,000 of ImageNet). For each class, it offers 500 training images, 50 validation images, and 50 test ones."
   ]
  },
  {
   "cell_type": "markdown",
   "metadata": {},
   "source": [
    "### Setup"
   ]
  },
  {
   "cell_type": "markdown",
   "metadata": {},
   "source": [
    "Tiny-ImageNet can be downloaded at [https://tiny-imagenet.herokuapp.com](https://tiny-imagenet.herokuapp.com) or [http://image-net.org/download-images](http://image-net.org/download-images) (users need the proper access).\n",
    "\n",
    "***Note:*** Makee sure to check the _ImageNet_ terms of use: [http://image-net.org/download-faq](http://image-net.org/download-faq).\n",
    "\n",
    "Once downloaded, the archive can be unzipped (`unzip tiny-imagenet-200.zip`) at a proper location. Its path is stored into a variable:"
   ]
  },
  {
   "cell_type": "code",
   "execution_count": 2,
   "metadata": {
    "scrolled": true
   },
   "outputs": [],
   "source": [
    "ROOT_FOLDER = os.path.expanduser('~/datasets/tiny-imagenet-200/')"
   ]
  },
  {
   "cell_type": "markdown",
   "metadata": {},
   "source": [
    "Let us have a look at the directory structure of the dataset:"
   ]
  },
  {
   "cell_type": "markdown",
   "metadata": {},
   "source": [
    "    - <ROOT_FOLDER>/tiny-imagenet-200/\n",
    "       - wnids.txt                 <-- File with the list of class IDs in the dataset\n",
    "         \n",
    "       - words.txt                 <-- File with the mapping from class IDs to readable labels\n",
    "         \n",
    "       - train/                    <-- Training folder\n",
    "          - <class_i>/             <--    Folder containing training data of class <class_i> \n",
    "             - images/             <--       Sub-folder with all the images for this class\n",
    "                 - ***.JPEG\n",
    "             - n01443537_boxes.txt <--    Annotations for detection tasks (unused)\n",
    "                         \n",
    "       - val/                      <-- Validation folder\n",
    "          - images/                <--    Folder with all the validation images\n",
    "          - val_annotations.txt    <--    File with the list of eval image filenames and\n",
    "                                          the corresponding class IDs\n",
    "         \n",
    "       - test/                     <-- Test folder\n",
    "          - images/                <--    Folder containing all the test images"
   ]
  },
  {
   "cell_type": "markdown",
   "metadata": {},
   "source": [
    "Finally, we define some additional dataset-related constants useful for later:"
   ]
  },
  {
   "cell_type": "code",
   "execution_count": 3,
   "metadata": {},
   "outputs": [],
   "source": [
    "IMAGENET_IDS_FILE_BASENAME = 'wnids.txt' # File in ROOT_FOLDER containing the list of class IDs\n",
    "IMAGENET_WORDS_FILE_BASENAME = 'words.txt' # File in ROOT_FOLDER containing the mapping from class IDs to readable labels\n",
    "IMG_HEIGHT, IMG_WIDTH, IMG_CHANNELS = 64, 64, 3 # Image dimensions"
   ]
  },
  {
   "cell_type": "markdown",
   "metadata": {},
   "source": [
    "## Input Pipeline"
   ]
  },
  {
   "cell_type": "markdown",
   "metadata": {},
   "source": [
    "Datasets come in all forms and sizes. As training a CNN is a complex and heavy process, it is important to have an efficient data pipeline to provide the training batches on time to avoid performance bottlenecks.\n",
    "\n",
    "In the following section, we will set up an input pipeline for a Tensorflow model, using Tiny-ImageNet as an example."
   ]
  },
  {
   "cell_type": "markdown",
   "metadata": {},
   "source": [
    "### Parsing the Labels"
   ]
  },
  {
   "cell_type": "markdown",
   "metadata": {},
   "source": [
    "_Tiny-ImageNet_ is mainly organized by class. Therefore, let us start by listing and parsing those various classes.\n",
    "\n",
    "We will use the two text files at the root of _Tiny-ImageNet_ to:\n",
    " - List the IDs corresponding to the 200 classes. This list will allow us to assign to each ID (IDs are 9-character-long strings) an integer from 0 to 199 (the ID position in the list);\n",
    " - Build a dictionary to map the IDs to human-readable labels (e.g., '_n01443537_' $ \\rightarrow$ '_goldfish, Carassius auratus_')\n",
    "\n",
    "The first list is the most important, as it defines the categories (mapping the string IDs to numbers) which will be the target of our recognition models. The second structure, the dictionary, will simply allow us at the end to get understandable results."
   ]
  },
  {
   "cell_type": "code",
   "execution_count": 4,
   "metadata": {},
   "outputs": [],
   "source": [
    "def _get_class_information(ids_file, words_file):\n",
    "    \"\"\"\n",
    "    Extract the class IDs and corresponding human-readable labels from metadata files.\n",
    "    :param ids_file:        IDs filename (contains list of unique string class IDs)\n",
    "    :param words_file:      Words filename (contains list of tuples <ID, human-readable label>)\n",
    "    :return:                List of IDs, Dictionary of labels\n",
    "    \"\"\"\n",
    "    with open(ids_file, \"r\") as f:\n",
    "        class_ids = [line[:-1] for line in f.readlines()] # removing the `\\n` for each line\n",
    "\n",
    "    with open(words_file, \"r\") as f:\n",
    "        words_lines = f.readlines()\n",
    "        class_readable_labels = {}\n",
    "        for line in words_lines:\n",
    "            # We split the line between the ID (9-char long) and the human readable label:\n",
    "            class_id = line[:9]\n",
    "            class_label = line[10:-1]\n",
    "\n",
    "            # If this class is in our dataset, we add it to our id-to-label dictionary:\n",
    "            if class_id in class_ids:\n",
    "                class_readable_labels[class_id] = class_label\n",
    "\n",
    "    return class_ids, class_readable_labels\n"
   ]
  },
  {
   "cell_type": "markdown",
   "metadata": {},
   "source": [
    "We can directly test this function:"
   ]
  },
  {
   "cell_type": "code",
   "execution_count": 5,
   "metadata": {},
   "outputs": [],
   "source": [
    "ids_file = os.path.join(ROOT_FOLDER, IMAGENET_IDS_FILE_BASENAME)\n",
    "words_file = os.path.join(ROOT_FOLDER, IMAGENET_WORDS_FILE_BASENAME)\n",
    "class_ids, class_readable_labels = _get_class_information(ids_file, words_file)\n"
   ]
  },
  {
   "cell_type": "code",
   "execution_count": 6,
   "metadata": {},
   "outputs": [
    {
     "name": "stdout",
     "output_type": "stream",
     "text": [
      "\"n02124075\" --> \"Egyptian cat\"\n",
      "\"n04067472\" --> \"reel\"\n",
      "\"n04540053\" --> \"volleyball\"\n",
      "\"n04099969\" --> \"rocking chair, rocker\"\n",
      "\"n07749582\" --> \"lemon\"\n",
      "\"n01641577\" --> \"bullfrog, Rana catesbeiana\"\n",
      "\"n02802426\" --> \"basketball\"\n",
      "\"n09246464\" --> \"cliff, drop, drop-off\"\n",
      "\"n07920052\" --> \"espresso\"\n",
      "\"n03970156\" --> \"plunger, plumber's helper\"\n"
     ]
    }
   ],
   "source": [
    "# Let's for example print the 10 first IDs and their human-readable labels:\n",
    "for i in range(10):\n",
    "    id = class_ids[i]\n",
    "    print('\"{}\" --> \"{}\"'.format(id, class_readable_labels[id]))\n"
   ]
  },
  {
   "cell_type": "markdown",
   "metadata": {},
   "source": [
    "### Listing All Images and Labels"
   ]
  },
  {
   "cell_type": "markdown",
   "metadata": {},
   "source": [
    "Now that we have the categories defined, we can list all the images along with their respective categorical labels.\n",
    "\n",
    "Since the dataset structure is different for training/validation/testing splits, we have to cover them separately. This happens often in practice, as defining a normalized structure for datasets is a complicated task (image format, annotation types, folder structure, etc. are heavily affected by the use-cases).\n",
    "\n",
    "In this example, we will cover only the training and validation split:"
   ]
  },
  {
   "cell_type": "code",
   "execution_count": 7,
   "metadata": {},
   "outputs": [],
   "source": [
    "def _get_train_image_files_and_labels(root_folder, class_ids):\n",
    "    \"\"\"\n",
    "    Fetch the lists of training images and numerical labels.\n",
    "    We assume the images are stored as \"<root_folder>/train/<class_id>/images/*.JPEG\"\n",
    "    :param root_folder:     Dataset root folder\n",
    "    :param class_ids:       List of class IDs\n",
    "    :return:                List of image filenames and List of corresponding labels\n",
    "    \"\"\"\n",
    "    image_files, labels = [], []\n",
    "\n",
    "    for i in range(len(class_ids)):\n",
    "        class_id = class_ids[i]\n",
    "        # Grabbing all the image files for this class:\n",
    "        class_image_paths = os.path.join(root_folder, 'train', class_id, 'images', '*.JPEG')\n",
    "        class_images = glob.glob(class_image_paths)\n",
    "        # Creating as many numerical labels:\n",
    "        class_labels = [i] * len(class_images)\n",
    "\n",
    "        image_files += class_images\n",
    "        labels += class_labels\n",
    "\n",
    "    return image_files, labels"
   ]
  },
  {
   "cell_type": "code",
   "execution_count": 8,
   "metadata": {},
   "outputs": [],
   "source": [
    "def _get_val_image_files_and_labels(root_folder, class_ids):\n",
    "    \"\"\"\n",
    "    Fetch the lists of validation images and numerical labels.\n",
    "    We assume the images are stored as \"<root_folder>/train/<class_id>/images/*.JPEG\"\n",
    "    :param root_folder:     Dataset root folder\n",
    "    :param class_ids:       List of class IDs\n",
    "    :return:                List of image filenames and List of corresponding labels\n",
    "    \"\"\"\n",
    "    image_files, labels = [], []\n",
    "\n",
    "    # The file 'val_annotations.txt' contains for each line the image filename and its annotations.\n",
    "    # We parse it to build our dataset lists:\n",
    "    val_annotation_file = os.path.join(root_folder, 'val', 'val_annotations.txt')\n",
    "    with open(val_annotation_file, \"r\") as f:\n",
    "        anno_lines = f.readlines()\n",
    "        for line in anno_lines:\n",
    "            split_line = line.split('\\t')   # Splitting the line to extract the various pieces of info\n",
    "            if len(split_line) > 1:\n",
    "                image_file, image_class_id = split_line[0], split_line[1]\n",
    "                class_num_id = class_ids.index(image_class_id)\n",
    "                if class_num_id >= 0: # If the label belongs to our dataset, we add them:\n",
    "                    image_files.append(image_file)\n",
    "                    labels.append(class_num_id)\n",
    "\n",
    "    return image_files, labels\n"
   ]
  },
  {
   "cell_type": "markdown",
   "metadata": {},
   "source": [
    "If we call the method for the training data, we obtain our list of 500 * 200 = 100,000 images and their labels:"
   ]
  },
  {
   "cell_type": "code",
   "execution_count": 9,
   "metadata": {},
   "outputs": [
    {
     "name": "stdout",
     "output_type": "stream",
     "text": [
      "Number of training images: 100000\n"
     ]
    }
   ],
   "source": [
    "image_files, image_labels = _get_train_image_files_and_labels(ROOT_FOLDER, class_ids)\n",
    "print(\"Number of training images: {}\".format(len(image_files)))"
   ]
  },
  {
   "cell_type": "markdown",
   "metadata": {},
   "source": [
    "### Building an Iterable Dataset with Tensorflow"
   ]
  },
  {
   "cell_type": "markdown",
   "metadata": {},
   "source": [
    "We need to convert this list of filenames into images, and generate a list of batches our model could iterate over during its training. There are however lots of elements to take into consideration. \n",
    "\n",
    "For instance, pre-loading all the images may not be possible for modest machines (at least for bigger datasets); but loading images on the fly would cause continuous delays. Also, in several papers we presented in Chapter 4, data scientists are applying random transformations to the images at each iteration (cropping, scaling, etc.). Those operations are also consuming.\n",
    "\n",
    "All in all, we would probably need some multi-thread pipeline for our inputs. Thankfully, Tensorflow provides us with an efficient solution. Its **`tf.data`** API contains several methods to build **`tf.data.Dataset()`** instances, a dataset structure which can be converted into batch iterators for TF models.\n",
    "\n",
    "***Note:*** The `tf.data` API is thoroughfully detailed later in Chapter [7](./ch7)."
   ]
  },
  {
   "cell_type": "markdown",
   "metadata": {},
   "source": [
    "For instance, a `Dataset` can be created from tensors containing lists of elements. Therefore, we can easily wrap our `image_files` and `image_labels` into a `Dataset`, first converting them into tensors: "
   ]
  },
  {
   "cell_type": "code",
   "execution_count": 10,
   "metadata": {},
   "outputs": [
    {
     "data": {
      "text/plain": [
       "<TensorSliceDataset shapes: ((), ()), types: (tf.string, tf.int32)>"
      ]
     },
     "execution_count": 10,
     "metadata": {},
     "output_type": "execute_result"
    }
   ],
   "source": [
    "image_files = tf.constant(image_files)\n",
    "image_labels = tf.constant(image_labels)\n",
    "dataset = tf.data.Dataset.from_tensor_slices((image_files, image_labels))\n",
    "dataset\n"
   ]
  },
  {
   "cell_type": "markdown",
   "metadata": {},
   "source": [
    "This object has multiple methods to transform its content, batch the elements, shuffle them, etc. Once defined, those operations will be applied only when necessary / called by the framework (like any other operation in TF graphs).\n",
    "\n",
    "Our goal is to have this dataset output batches of images and their labels. So first thing first, let us add an operation to obtain the images from the filenames:\n"
   ]
  },
  {
   "cell_type": "code",
   "execution_count": 11,
   "metadata": {},
   "outputs": [],
   "source": [
    "def _parse_function(filename, label, size=[IMG_HEIGHT, IMG_WIDTH]):\n",
    "    \"\"\"\n",
    "    Parse the provided tensors, loading and resizing the corresponding image.\n",
    "    Code snippet from https://www.tensorflow.org/guide/datasets#decoding_image_data_and_resizing_it (Apache 2.0 License).\n",
    "    :param filename:    Image filename (String Tensor)\n",
    "    :param label:       Image label\n",
    "    :param size:        Size to resize the images to\n",
    "    :return:            Image, Label\n",
    "    \"\"\"\n",
    "    # Reading the file and returning its content as bytes:\n",
    "    image_string = tf.io.read_file(filename)\n",
    "    # Decoding those into the image\n",
    "    # (with `channels=3`, TF will duplicate the channels of grayscale images so they have 3 channels too):\n",
    "    image_decoded = tf.io.decode_jpeg(image_string, channels=3)\n",
    "    # Converting to float:\n",
    "    image_float = tf.image.convert_image_dtype(image_decoded, tf.float32)\n",
    "    # Resizing the image to the expected dimensions:\n",
    "    image_resized = tf.image.resize(image_float, size)\n",
    "    return image_resized, label\n",
    "\n",
    "dataset = dataset.map(_parse_function)\n"
   ]
  },
  {
   "cell_type": "markdown",
   "metadata": {},
   "source": [
    "\n",
    "`dataset.map(fn)` tells the dataset to apply the function `fn` to each element requested at a given iteration. These functions can be chained. For example, we can add another function to randomly transform the training images, to artificially increase the number of different images our model can train on:"
   ]
  },
  {
   "cell_type": "code",
   "execution_count": 12,
   "metadata": {},
   "outputs": [
    {
     "data": {
      "text/plain": [
       "<MapDataset shapes: ((64, 64, 3), ()), types: (tf.float32, tf.int32)>"
      ]
     },
     "execution_count": 12,
     "metadata": {},
     "output_type": "execute_result"
    }
   ],
   "source": [
    "def _training_augmentation_fn(image, label):\n",
    "    \"\"\"\n",
    "    Apply random transformations to augment the training images.\n",
    "    :param images:      Images\n",
    "    :param label:       Labels\n",
    "    :return:            Augmented Images, Labels\n",
    "    \"\"\"\n",
    "\n",
    "    # Randomly applied horizontal flip:\n",
    "    image = tf.image.random_flip_left_right(image)\n",
    "\n",
    "    # Random B/S changes:\n",
    "    image = tf.image.random_brightness(image, max_delta=0.1)\n",
    "    image = tf.image.random_saturation(image, lower=0.5, upper=1.5)\n",
    "    image = tf.clip_by_value(image, 0.0, 1.0) # keeping pixel values in check\n",
    "\n",
    "    # Random resize and random crop back to expected size:\n",
    "    original_shape = tf.shape(image)\n",
    "    random_scale_factor = tf.random.uniform([1], minval=0.7, maxval=1.3, dtype=tf.float32)\n",
    "    scaled_height = tf.cast(tf.cast(original_shape[0], tf.float32) * random_scale_factor, \n",
    "                            tf.int32)\n",
    "    scaled_width = tf.cast(tf.cast(original_shape[1], tf.float32) * random_scale_factor, \n",
    "                           tf.int32)\n",
    "    scaled_shape = tf.squeeze(tf.stack([scaled_height, scaled_width]))\n",
    "    image = tf.image.resize(image, scaled_shape)\n",
    "    image = tf.image.random_crop(image, original_shape)\n",
    "\n",
    "    return image, label\n",
    "\n",
    "dataset.map(_training_augmentation_fn)\n"
   ]
  },
  {
   "cell_type": "markdown",
   "metadata": {},
   "source": [
    "We can also specify if we want the dataset to be suffled, or sepcify how many elements we want at each iteration in a batch, how many times we want the dataset to be repeated (for multiple epochs), how many batches to pre-fetch, etc:\n"
   ]
  },
  {
   "cell_type": "code",
   "execution_count": 13,
   "metadata": {},
   "outputs": [],
   "source": [
    "batch_size = 32\n",
    "num_epochs = 30\n",
    "\n",
    "dataset = dataset.shuffle(buffer_size=10000)\n",
    "dataset = dataset.batch(batch_size)\n",
    "dataset = dataset.repeat(num_epochs)\n",
    "dataset = dataset.prefetch(1)\n"
   ]
  },
  {
   "cell_type": "markdown",
   "metadata": {},
   "source": [
    "***Note:*** More detailed explanations on `Dataset` and its methods, as well as performance recommendations, will be provided in Chapter 7 and its [notebooks](../ch7)."
   ]
  },
  {
   "cell_type": "markdown",
   "metadata": {},
   "source": [
    "Our dataset is ready, and we can now simply iterate over it to obtain our batches:"
   ]
  },
  {
   "cell_type": "code",
   "execution_count": 14,
   "metadata": {},
   "outputs": [],
   "source": [
    "images, labels = next(dataset.__iter__())"
   ]
  },
  {
   "cell_type": "code",
   "execution_count": 15,
   "metadata": {},
   "outputs": [
    {
     "name": "stdout",
     "output_type": "stream",
     "text": [
      "organ, pipe organ\n"
     ]
    },
    {
     "data": {
      "text/plain": [
       "<matplotlib.image.AxesImage at 0x7f1dae6e6550>"
      ]
     },
     "execution_count": 15,
     "metadata": {},
     "output_type": "execute_result"
    },
    {
     "data": {
      "image/png": "[encoded data removed]",
      "text/plain": [
       "<Figure size 432x288 with 1 Axes>"
      ]
     },
     "metadata": {
      "needs_background": "light"
     },
     "output_type": "display_data"
    }
   ],
   "source": [
    "# Displaying an example:\n",
    "i = 0\n",
    "class_id = class_ids[labels[i]]\n",
    "readable_label = class_readable_labels[class_id]\n",
    "print(readable_label)\n",
    "plt.imshow(images[i])\n"
   ]
  },
  {
   "cell_type": "markdown",
   "metadata": {},
   "source": [
    "As we saw through the previous notebooks, this `tf.data.Dataset` instances can be simply passed to Keras models for their training.\n",
    "\n",
    "\n",
    "### Wrapping Up for Estimators"
   ]
  },
  {
   "cell_type": "markdown",
   "metadata": {},
   "source": [
    "If we want to pass our dataset to an Estimator, we can wrap the iterable inputs (`images` here) into a dictionary in order to name the content.\n"
   ]
  },
  {
   "cell_type": "code",
   "execution_count": 16,
   "metadata": {},
   "outputs": [],
   "source": [
    "batch = {'image': images, 'label': labels}"
   ]
  },
  {
   "cell_type": "markdown",
   "metadata": {},
   "source": [
    "We know have our input pipeline ready. We will reuse these variables in the next notebooks. For clarity, we wrap their definition into easy-to-call functions:"
   ]
  },
  {
   "cell_type": "code",
   "execution_count": null,
   "metadata": {},
   "outputs": [],
   "source": [
    "def _input_fn(image_files, image_labels,\n",
    "              shuffle=True, batch_size=32, num_epochs=None,\n",
    "              augmentation_fn=None, wrap_for_estimator=True, resize_to=None):\n",
    "    \"\"\"\n",
    "    Prepares and returns the iterators for a dataset.\n",
    "    :param image_files:         List of image files\n",
    "    :param image_labels:        List of image labels\n",
    "    :param shuffle:             Flag to shuffle the dataset (if True)\n",
    "    :param batch_size:          Batch size\n",
    "    :param num_epochs:          Number of epochs (to repeat the iteration - infinite if None)\n",
    "    :param augmentation_fn:     opt. Augmentation function\n",
    "    :param wrap_for_estimator:  Flag to wrap the inputs to be passed for Estimators\n",
    "    :param resize_to:           (opt) Dimensions (h x w) to resize the images to\n",
    "    :return:                    Iterable batched images and labels\n",
    "    \"\"\"\n",
    "\n",
    "    # Converting to TF dataset:\n",
    "    image_files = tf.constant(image_files)\n",
    "    image_labels = tf.constant(image_labels)\n",
    "    dataset = tf.data.Dataset.from_tensor_slices((image_files, image_labels))\n",
    "    if shuffle:\n",
    "        dataset = dataset.shuffle(buffer_size=50000)\n",
    "    # Adding parsing operation, to open and decode images:\n",
    "    if resize_to is None:\n",
    "        parse_fn = _parse_function\n",
    "    else:\n",
    "        # We specify to which dimensions to resize the images, if requested:\n",
    "        parse_fn = partial(_parse_function, size=resize_to)\n",
    "    dataset = dataset.map(parse_fn, num_parallel_calls=4)\n",
    "    # Opt. adding some further transformations:\n",
    "    if augmentation_fn is not None:\n",
    "        dataset.map(augmentation_fn, num_parallel_calls=4)\n",
    "    # Further preparing for iterating on:\n",
    "    dataset = dataset.batch(batch_size)\n",
    "    dataset = dataset.repeat(num_epochs)\n",
    "    dataset = dataset.prefetch(1)\n",
    "    if wrap_for_estimator:\n",
    "        dataset = dataset.map(lambda img, label: {'image': img, 'label': label})\n",
    "    return dataset\n",
    "\n",
    "\n",
    "def tiny_imagenet(phase='train', shuffle=True, batch_size=32, num_epochs=None,\n",
    "                  augmentation_fn=_training_augmentation_fn, wrap_for_estimator=True,\n",
    "                  root_folder=ROOT_FOLDER, resize_to=None):\n",
    "    \"\"\"\n",
    "    Instantiate a Tiny-Image training or validation dataset, which can be passed to any model.\n",
    "    :param phase:               Phase ('train' or 'val')\n",
    "    :param shuffle:             Flag to shuffle the dataset (if True)\n",
    "    :param batch_size:          Batch size\n",
    "    :param num_epochs:          Number of epochs (to repeat the iteration - infinite if None)\n",
    "    :param augmentation_fn:     opt. Augmentation function\n",
    "    :param wrap_for_estimator:  Flag to wrap the inputs to be passed for Estimators\n",
    "    :param root_folder:         Dataset root folder\n",
    "    :param resize_to:           (opt) Dimensions (h x w) to resize the images to\n",
    "    :return:                    Dataset pipeline, IDs List, Dictionary to read labels\n",
    "    \"\"\"\n",
    "\n",
    "    ids_file = os.path.join(root_folder, IMAGENET_IDS_FILE_BASENAME)\n",
    "    words_file = os.path.join(root_folder, IMAGENET_WORDS_FILE_BASENAME)\n",
    "    class_ids, class_readable_labels = _get_class_information(ids_file, words_file)\n",
    "    if phase == 'train':\n",
    "        image_files, image_labels = _get_train_image_files_and_labels(root_folder, class_ids)\n",
    "    elif phase == 'val':\n",
    "        image_files, image_labels = _get_val_image_files_and_labels(root_folder, class_ids)\n",
    "    else:\n",
    "        raise ValueError(\"Unknown phase ('train' or 'val' only)\")\n",
    "\n",
    "    dataset = _input_fn(image_files, image_labels,\n",
    "                               shuffle, batch_size, num_epochs, augmentation_fn,\n",
    "                               wrap_for_estimator, resize_to)\n",
    "\n",
    "    return dataset, class_ids, class_readable_labels"
   ]
  },
  {
   "cell_type": "markdown",
   "metadata": {},
   "source": [
    "## ImageNet\n",
    "\n",
    "For our more ambitious readers, the same process can be followed with the original *ImageNet* dataset, after acquiring it from its website ([http://image-net.org](http://image-net.org)).\n",
    "\n",
    "However, TensorFlow developers have made public the `tensorflow-datasets` package ([https://github.com/tensorflow/datasets](https://github.com/tensorflow/datasets)), which greatly simplifies the download and usage of many standard datasets (it is still up to the users to make sure they have the proper authorizations / they respect the terms of use for the datasets they download this way).\n",
    "\n",
    "We will not extend further in this notebook, as `tensorflow-datasets` has been already properly introduced in a previous [notebook](./ch4_nb1_implement_resnet_from_scratch.ipynb). The explanations shared there can be directly applied to the _ImageNet_ version provided by these package ([details](https://github.com/tensorflow/datasets/blob/master/docs/datasets.md#imagenet2012)):"
   ]
  },
  {
   "cell_type": "code",
   "execution_count": 2,
   "metadata": {},
   "outputs": [
    {
     "name": "stdout",
     "output_type": "stream",
     "text": [
      "tfds.core.DatasetInfo(\n",
      "    name='imagenet2012',\n",
      "    version=2.0.1,\n",
      "    description='ILSVRC 2012, aka ImageNet is an image dataset organized according to the\n",
      "WordNet hierarchy. Each meaningful concept in WordNet, possibly described by\n",
      "multiple words or word phrases, is called a \"synonym set\" or \"synset\". There are\n",
      "more than 100,000 synsets in WordNet, majority of them are nouns (80,000+). In\n",
      "ImageNet, we aim to provide on average 1000 images to illustrate each synset.\n",
      "Images of each concept are quality-controlled and human-annotated. In its\n",
      "completion, we hope ImageNet will offer tens of millions of cleanly sorted\n",
      "images for most of the concepts in the WordNet hierarchy.\n",
      "',\n",
      "    urls=['http://image-net.org/'],\n",
      "    features=FeaturesDict({\n",
      "        'file_name': Text(shape=(), dtype=tf.string, encoder=None),\n",
      "        'image': Image(shape=(None, None, 3), dtype=tf.uint8),\n",
      "        'label': ClassLabel(shape=(), dtype=tf.int64, num_classes=1000)\n",
      "    },\n",
      "    total_num_examples=1331167,\n",
      "    splits={\n",
      "        'train': <tfds.core.SplitInfo num_examples=1281167>,\n",
      "        'validation': <tfds.core.SplitInfo num_examples=50000>\n",
      "    },\n",
      "    supervised_keys=('image', 'label'),\n",
      "    citation='\"\"\"\n",
      "        @article{ILSVRC15,\n",
      "        Author = {Olga Russakovsky and Jia Deng and Hao Su and Jonathan Krause and Sanjeev Satheesh and Sean Ma and Zhiheng Huang and Andrej Karpathy and Aditya Khosla and Michael Bernstein and Alexander C. Berg and Li Fei-Fei},\n",
      "        Title = {{ImageNet Large Scale Visual Recognition Challenge}},\n",
      "        Year = {2015},\n",
      "        journal   = {International Journal of Computer Vision (IJCV)},\n",
      "        doi = {10.1007/s11263-015-0816-y},\n",
      "        volume={115},\n",
      "        number={3},\n",
      "        pages={211-252}\n",
      "        }\n",
      "        \n",
      "    \"\"\"',\n",
      "    redistribution_info=,\n",
      ")\n",
      "\n"
     ]
    }
   ],
   "source": [
    "# !pip install tensorflow-datasets # Uncomment to install the module\n",
    "import tensorflow_datasets as tfds\n",
    "\n",
    "imagenet_builder = tfds.builder(\"imagenet2012\")\n",
    "print(imagenet_builder.info)\n",
    "\n",
    "# Uncommment to download and get started (check terms of use!):\n",
    "# imagenet_builder.download_and_prepare()"
   ]
  },
  {
   "cell_type": "markdown",
   "metadata": {},
   "source": [
    "<a id=\"ref\"></a>\n",
    "#### References\n",
    "\n",
    "1. Russakovsky, O., Deng, J., Su, H., Krause, J., Satheesh, S., Ma, S., Huang, Z., Karpathy, A., Khosla, A., Bernstein, M., Berg, A.C., Fei-Fei, L., 2014. ImageNet Large Scale Visual Recognition Challenge. arXiv:1409.0575 [cs]."
   ]
  }
 ],
 "metadata": {
  "kernelspec": {
   "display_name": "Python 3",
   "language": "python",
   "name": "python3"
  },
  "language_info": {
   "codemirror_mode": {
    "name": "ipython",
    "version": 3
   },
   "file_extension": ".py",
   "mimetype": "text/x-python",
   "name": "python",
   "nbconvert_exporter": "python",
   "pygments_lexer": "ipython3",
   "version": "3.6.7"
  }
 },
 "nbformat": 4,
 "nbformat_minor": 2
}
